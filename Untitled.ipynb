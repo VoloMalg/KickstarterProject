{
 "cells": [
  {
   "cell_type": "code",
   "execution_count": 6,
   "metadata": {},
   "outputs": [],
   "source": [
    "import pickle as pkl\n",
    "import pandas as pd\n",
    "\n",
    "with open('model.pkl','rb') as f:\n",
    "    data = pickle.load(f)\n",
    "# pkl.load('model.pkl')"
   ]
  },
  {
   "cell_type": "code",
   "execution_count": 4,
   "metadata": {
    "scrolled": true
   },
   "outputs": [
    {
     "data": {
      "text/plain": [
       "(TargetEncoder(cols=['main_category'], drop_invariant=False,\n",
       "               handle_missing='value', handle_unknown='value',\n",
       "               min_samples_leaf=1, return_df=True, smoothing=1.0, verbose=0),\n",
       " TargetEncoder(cols=['category'], drop_invariant=False, handle_missing='value',\n",
       "               handle_unknown='value', min_samples_leaf=1, return_df=True,\n",
       "               smoothing=1.0, verbose=0),\n",
       " XGBClassifier(base_score=0.5, booster=None, colsample_bylevel=1,\n",
       "               colsample_bynode=1, colsample_bytree=1, gamma=0.2, gpu_id=-1,\n",
       "               importance_type='gain', interaction_constraints=None,\n",
       "               learning_rate=0.1, max_delta_step=0, max_depth=5,\n",
       "               min_child_weight=5, missing=nan, monotone_constraints=None,\n",
       "               n_estimators=500, n_jobs=0, num_parallel_tree=1,\n",
       "               objective='binary:logistic', random_state=0, reg_alpha=1,\n",
       "               reg_lambda=1, scale_pos_weight=1, subsample=1, tree_method=None,\n",
       "               validate_parameters=False, verbosity=None))"
      ]
     },
     "execution_count": 4,
     "metadata": {},
     "output_type": "execute_result"
    }
   ],
   "source": [
    "data"
   ]
  },
  {
   "cell_type": "code",
   "execution_count": 16,
   "metadata": {},
   "outputs": [],
   "source": [
    "init_features = ['Music', 'Rock', 10000, 20, 4, 3, 1]\n",
    "       \n",
    "df = pd.DataFrame(init_features,  \n",
    "                  ['main_category',\n",
    "                           'category',\n",
    "                           'usd_goal_real',\n",
    "                           \"duration_days\",\n",
    "                           \"launch_month\",\n",
    "                           'launch_day',\n",
    "                           'US'\n",
    "                          ]\n",
    "                 ).T\n",
    "\n",
    "df['usd_goal_real'] = df['usd_goal_real'].astype(float)\n",
    "df['duration_days'] = df['duration_days'].astype(int)\n",
    "df['launch_month'] = df['launch_month'].astype(int)\n",
    "df['launch_day'] = df['launch_day'].astype(int)\n",
    "df['US'] = df['US'].astype(int)"
   ]
  },
  {
   "cell_type": "code",
   "execution_count": 17,
   "metadata": {},
   "outputs": [
    {
     "data": {
      "text/plain": [
       "main_category     object\n",
       "category          object\n",
       "usd_goal_real    float64\n",
       "duration_days      int32\n",
       "launch_month       int32\n",
       "launch_day         int32\n",
       "US                 int32\n",
       "dtype: object"
      ]
     },
     "execution_count": 17,
     "metadata": {},
     "output_type": "execute_result"
    }
   ],
   "source": [
    "df.dtypes"
   ]
  }
 ],
 "metadata": {
  "kernelspec": {
   "display_name": "Python 3",
   "language": "python",
   "name": "python3"
  },
  "language_info": {
   "codemirror_mode": {
    "name": "ipython",
    "version": 3
   },
   "file_extension": ".py",
   "mimetype": "text/x-python",
   "name": "python",
   "nbconvert_exporter": "python",
   "pygments_lexer": "ipython3",
   "version": "3.7.4"
  }
 },
 "nbformat": 4,
 "nbformat_minor": 2
}
